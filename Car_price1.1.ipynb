{
  "nbformat": 4,
  "nbformat_minor": 0,
  "metadata": {
    "colab": {
      "provenance": [],
      "authorship_tag": "ABX9TyOV5uslEPk1AoNcpSBIxuci",
      "include_colab_link": true
    },
    "kernelspec": {
      "name": "python3",
      "display_name": "Python 3"
    },
    "language_info": {
      "name": "python"
    }
  },
  "cells": [
    {
      "cell_type": "markdown",
      "metadata": {
        "id": "view-in-github",
        "colab_type": "text"
      },
      "source": [
        "<a href=\"https://colab.research.google.com/github/Snomo1/Predicting-the-selling-price-of-Used-Cars/blob/main/Car_price1.1.ipynb\" target=\"_parent\"><img src=\"https://colab.research.google.com/assets/colab-badge.svg\" alt=\"Open In Colab\"/></a>"
      ]
    },
    {
      "cell_type": "code",
      "source": [],
      "metadata": {
        "id": "9cmYO11Zgn6-"
      },
      "execution_count": 137,
      "outputs": []
    },
    {
      "cell_type": "code",
      "execution_count": 138,
      "metadata": {
        "colab": {
          "base_uri": "https://localhost:8080/"
        },
        "id": "2o-51aF1cF7v",
        "outputId": "1df80a1c-7ff9-462b-f4e3-1f5323c34920"
      },
      "outputs": [
        {
          "output_type": "stream",
          "name": "stdout",
          "text": [
            "Requirement already satisfied: kaggle in /usr/local/lib/python3.10/dist-packages (1.6.17)\n",
            "Requirement already satisfied: six>=1.10 in /usr/local/lib/python3.10/dist-packages (from kaggle) (1.16.0)\n",
            "Requirement already satisfied: certifi>=2023.7.22 in /usr/local/lib/python3.10/dist-packages (from kaggle) (2024.7.4)\n",
            "Requirement already satisfied: python-dateutil in /usr/local/lib/python3.10/dist-packages (from kaggle) (2.8.2)\n",
            "Requirement already satisfied: requests in /usr/local/lib/python3.10/dist-packages (from kaggle) (2.32.3)\n",
            "Requirement already satisfied: tqdm in /usr/local/lib/python3.10/dist-packages (from kaggle) (4.66.5)\n",
            "Requirement already satisfied: python-slugify in /usr/local/lib/python3.10/dist-packages (from kaggle) (8.0.4)\n",
            "Requirement already satisfied: urllib3 in /usr/local/lib/python3.10/dist-packages (from kaggle) (2.0.7)\n",
            "Requirement already satisfied: bleach in /usr/local/lib/python3.10/dist-packages (from kaggle) (6.1.0)\n",
            "Requirement already satisfied: webencodings in /usr/local/lib/python3.10/dist-packages (from bleach->kaggle) (0.5.1)\n",
            "Requirement already satisfied: text-unidecode>=1.3 in /usr/local/lib/python3.10/dist-packages (from python-slugify->kaggle) (1.3)\n",
            "Requirement already satisfied: charset-normalizer<4,>=2 in /usr/local/lib/python3.10/dist-packages (from requests->kaggle) (3.3.2)\n",
            "Requirement already satisfied: idna<4,>=2.5 in /usr/local/lib/python3.10/dist-packages (from requests->kaggle) (3.7)\n"
          ]
        }
      ],
      "source": [
        "!pip install kaggle\n"
      ]
    },
    {
      "cell_type": "markdown",
      "source": [],
      "metadata": {
        "id": "ftq8t81Ugadr"
      }
    },
    {
      "cell_type": "code",
      "source": [],
      "metadata": {
        "id": "nWNzpZeLhN5v"
      },
      "execution_count": 138,
      "outputs": []
    },
    {
      "cell_type": "code",
      "source": [
        "import shutil\n",
        "\n",
        "source_file = 'kaggle2.json'\n",
        "destination_dir = '/root/.kaggle/'\n",
        "\n",
        "try:\n",
        "    shutil.move(source_file, destination_dir)\n",
        "    print(f\"File '{source_file}' moved successfully to '{destination_dir}'.\")\n",
        "except FileNotFoundError:\n",
        "    print(f\"Error: '{source_file}' not found in the current directory.\")\n",
        "except PermissionError:\n",
        "    print(\"Error: Permission denied. You might need administrative privileges.\")\n",
        "except Exception as e:\n",
        "    print(f\"An unexpected error occurred: {e}\")\n"
      ],
      "metadata": {
        "colab": {
          "base_uri": "https://localhost:8080/"
        },
        "id": "w0FUcPUVga8H",
        "outputId": "77e07bf0-ebaa-436f-ce3d-488772f2d0a2"
      },
      "execution_count": 139,
      "outputs": [
        {
          "output_type": "stream",
          "name": "stdout",
          "text": [
            "Error: 'kaggle2.json' not found in the current directory.\n"
          ]
        }
      ]
    },
    {
      "cell_type": "code",
      "source": [
        "import os\n",
        "current_directory = os.getcwd()\n",
        "print(\"Current directory:\", current_directory)\n"
      ],
      "metadata": {
        "colab": {
          "base_uri": "https://localhost:8080/"
        },
        "id": "_isEA9zVgkBE",
        "outputId": "15adb120-0da4-4ea2-dba9-03b4e99b575e"
      },
      "execution_count": 140,
      "outputs": [
        {
          "output_type": "stream",
          "name": "stdout",
          "text": [
            "Current directory: /content/drive/MyDrive/car_price1\n"
          ]
        }
      ]
    },
    {
      "cell_type": "code",
      "source": [
        "import os\n",
        "\n",
        "# List the uploaded files\n",
        "uploaded_files = os.listdir('/content')\n",
        "print(\"Uploaded files:\")\n",
        "print(uploaded_files)\n"
      ],
      "metadata": {
        "colab": {
          "base_uri": "https://localhost:8080/"
        },
        "id": "qXnzj3Pej7TE",
        "outputId": "554e83bb-730f-405e-a314-1597f82c1a87"
      },
      "execution_count": 141,
      "outputs": [
        {
          "output_type": "stream",
          "name": "stdout",
          "text": [
            "Uploaded files:\n",
            "['.config', 'drive', 'random_forest_model.pkl', 'Car_price_prediction', 'sample_data']\n"
          ]
        }
      ]
    },
    {
      "cell_type": "code",
      "source": [
        "import os\n",
        "\n",
        "# Get the current working directory\n",
        "current_directory = os.getcwd()\n",
        "print(\"Current directory:\", current_directory)\n",
        "\n",
        "# List the files in the current directory\n",
        "uploaded_files = os.listdir(current_directory)\n",
        "print(\"Uploaded files:\")\n",
        "print(uploaded_files)\n"
      ],
      "metadata": {
        "colab": {
          "base_uri": "https://localhost:8080/"
        },
        "id": "EbkJ8WOOkOay",
        "outputId": "43a5860c-f722-4599-ae91-0ed238397322"
      },
      "execution_count": 142,
      "outputs": [
        {
          "output_type": "stream",
          "name": "stdout",
          "text": [
            "Current directory: /content/drive/MyDrive/car_price1\n",
            "Uploaded files:\n",
            "['Car price.ipynb', '.git', 'Car_price_prediction', 'random_forest_model.pkl']\n"
          ]
        }
      ]
    },
    {
      "cell_type": "code",
      "source": [],
      "metadata": {
        "id": "9unZDacwdXrs"
      },
      "execution_count": 142,
      "outputs": []
    },
    {
      "cell_type": "code",
      "source": [
        "!mkdir Car_price_prediction\n"
      ],
      "metadata": {
        "id": "a5hk3vmAlH_c",
        "colab": {
          "base_uri": "https://localhost:8080/"
        },
        "outputId": "5a89cd79-8791-4488-9f80-645c7f8febd5"
      },
      "execution_count": 143,
      "outputs": [
        {
          "output_type": "stream",
          "name": "stdout",
          "text": [
            "mkdir: cannot create directory ‘Car_price_prediction’: File exists\n"
          ]
        }
      ]
    },
    {
      "cell_type": "code",
      "source": [
        "import os\n",
        "\n",
        "# List the files in the 'car_price_prediction' directory\n",
        "directory_path = '/content/Car_price_prediction/'\n",
        "print(\"Files in 'Car_price_prediction' directory:\")\n",
        "print(os.listdir(directory_path))\n"
      ],
      "metadata": {
        "colab": {
          "base_uri": "https://localhost:8080/"
        },
        "id": "dnCcPge5mqHH",
        "outputId": "1b09f0bd-646e-4256-ec6c-d8c35b6e7b05"
      },
      "execution_count": 144,
      "outputs": [
        {
          "output_type": "stream",
          "name": "stdout",
          "text": [
            "Files in 'Car_price_prediction' directory:\n",
            "['car_data.csv', '.ipynb_checkpoints']\n"
          ]
        }
      ]
    },
    {
      "cell_type": "code",
      "source": [
        "import pandas as pd\n",
        "\n",
        "# Load 'car_data.csv' from the 'car_price_prediction' directory\n",
        "df = pd.read_csv('/content/Car_price_prediction/car_data.csv')\n"
      ],
      "metadata": {
        "id": "BYJzVWV7nxb7"
      },
      "execution_count": 145,
      "outputs": []
    },
    {
      "cell_type": "code",
      "source": [
        "import pandas as pd\n",
        "\n",
        "# Load the dataset into a DataFrame\n",
        "df = pd.read_csv('/content/Car_price_prediction/car_data.csv')\n",
        "\n"
      ],
      "metadata": {
        "id": "pqVfQlgNsKJX"
      },
      "execution_count": 146,
      "outputs": []
    },
    {
      "cell_type": "code",
      "source": [
        "# Display the first few rows of the DataFrame\n",
        "print(df.head())\n",
        "\n",
        "# Check the column names\n",
        "print(df.columns)\n"
      ],
      "metadata": {
        "colab": {
          "base_uri": "https://localhost:8080/"
        },
        "id": "yqhtoK2YtYIc",
        "outputId": "137ab447-95c1-4d9f-94ef-aeaaf00e1387"
      },
      "execution_count": 147,
      "outputs": [
        {
          "output_type": "stream",
          "name": "stdout",
          "text": [
            "  Car_Name  Year  Selling_Price  Present_Price  Kms_Driven Fuel_Type  \\\n",
            "0     ritz  2014           3.35           5.59       27000    Petrol   \n",
            "1      sx4  2013           4.75           9.54       43000    Diesel   \n",
            "2     ciaz  2017           7.25           9.85        6900    Petrol   \n",
            "3  wagon r  2011           2.85           4.15        5200    Petrol   \n",
            "4    swift  2014           4.60           6.87       42450    Diesel   \n",
            "\n",
            "  Seller_Type Transmission  Owner  \n",
            "0      Dealer       Manual      0  \n",
            "1      Dealer       Manual      0  \n",
            "2      Dealer       Manual      0  \n",
            "3      Dealer       Manual      0  \n",
            "4      Dealer       Manual      0  \n",
            "Index(['Car_Name', 'Year', 'Selling_Price', 'Present_Price', 'Kms_Driven',\n",
            "       'Fuel_Type', 'Seller_Type', 'Transmission', 'Owner'],\n",
            "      dtype='object')\n"
          ]
        }
      ]
    },
    {
      "cell_type": "code",
      "source": [
        "# Display summary statistics for numeric variables\n",
        "print(df.describe())\n"
      ],
      "metadata": {
        "colab": {
          "base_uri": "https://localhost:8080/"
        },
        "id": "7d-Jvf1_tmm-",
        "outputId": "d068bded-651a-4811-ca13-c72795d233e9"
      },
      "execution_count": 148,
      "outputs": [
        {
          "output_type": "stream",
          "name": "stdout",
          "text": [
            "              Year  Selling_Price  Present_Price     Kms_Driven       Owner\n",
            "count   301.000000     301.000000     301.000000     301.000000  301.000000\n",
            "mean   2013.627907       4.661296       7.628472   36947.205980    0.043189\n",
            "std       2.891554       5.082812       8.644115   38886.883882    0.247915\n",
            "min    2003.000000       0.100000       0.320000     500.000000    0.000000\n",
            "25%    2012.000000       0.900000       1.200000   15000.000000    0.000000\n",
            "50%    2014.000000       3.600000       6.400000   32000.000000    0.000000\n",
            "75%    2016.000000       6.000000       9.900000   48767.000000    0.000000\n",
            "max    2018.000000      35.000000      92.600000  500000.000000    3.000000\n"
          ]
        }
      ]
    },
    {
      "cell_type": "code",
      "source": [
        "import matplotlib.pyplot as plt\n",
        "\n",
        "# Plot histograms for numeric variables\n",
        "plt.figure(figsize=(12, 8))\n",
        "plt.subplot(2, 2, 1)\n",
        "df['Year'].hist()\n",
        "plt.title('Distribution of Year')\n",
        "\n",
        "plt.subplot(2, 2, 2)\n",
        "df['Selling_Price'].hist()\n",
        "plt.title('Distribution of Selling Price')\n",
        "\n",
        "plt.subplot(2, 2, 3)\n",
        "df['Present_Price'].hist()\n",
        "plt.title('Distribution of Present Price')\n",
        "\n",
        "plt.subplot(2, 2, 4)\n",
        "df['Kms_Driven'].hist()\n",
        "plt.title('Distribution of Kms Driven')\n",
        "\n",
        "plt.tight_layout()\n",
        "plt.show()\n"
      ],
      "metadata": {
        "colab": {
          "base_uri": "https://localhost:8080/",
          "height": 807
        },
        "id": "vtIgZTAYt4Mb",
        "outputId": "f59d113c-e641-4f31-ef5e-647740dd1305"
      },
      "execution_count": 149,
      "outputs": [
        {
          "output_type": "display_data",
          "data": {
            "text/plain": [
              "<Figure size 1200x800 with 4 Axes>"
            ],
            "image/png": "[encoded data removed]"
          },
          "metadata": {}
        }
      ]
    },
    {
      "cell_type": "code",
      "source": [
        "# Plot scatter plots for numeric variables\n",
        "plt.figure(figsize=(12, 8))\n",
        "plt.subplot(2, 2, 1)\n",
        "plt.scatter(df['Year'], df['Selling_Price'])\n",
        "plt.xlabel('Year')\n",
        "plt.ylabel('Selling Price')\n",
        "plt.title('Year vs Selling Price')\n",
        "\n",
        "plt.subplot(2, 2, 2)\n",
        "plt.scatter(df['Present_Price'], df['Selling_Price'])\n",
        "plt.xlabel('Present Price')\n",
        "plt.ylabel('Selling Price')\n",
        "plt.title('Present Price vs Selling Price')\n",
        "\n",
        "plt.subplot(2, 2, 3)\n",
        "plt.scatter(df['Kms_Driven'], df['Selling_Price'])\n",
        "plt.xlabel('Kms Driven')\n",
        "plt.ylabel('Selling Price')\n",
        "plt.title('Kms Driven vs Selling Price')\n",
        "\n",
        "plt.tight_layout()\n",
        "plt.show()\n"
      ],
      "metadata": {
        "colab": {
          "base_uri": "https://localhost:8080/",
          "height": 807
        },
        "id": "gooGZ8R6t4Rr",
        "outputId": "aa1023a8-d7d1-435b-c826-a29b7a6d85f8"
      },
      "execution_count": 150,
      "outputs": [
        {
          "output_type": "display_data",
          "data": {
            "text/plain": [
              "<Figure size 1200x800 with 3 Axes>"
            ],
            "image/png": "[encoded data removed]"
          },
          "metadata": {}
        }
      ]
    },
    {
      "cell_type": "code",
      "source": [
        "import matplotlib.pyplot as plt\n",
        "\n",
        "# Select numeric columns for visualization\n",
        "numeric_columns = ['Year', 'Selling_Price', 'Present_Price', 'Kms_Driven']\n",
        "\n",
        "# Plot histograms for numeric variables\n",
        "plt.figure(figsize=(12, 8))\n",
        "for i, column in enumerate(numeric_columns, 1):\n",
        "    plt.subplot(2, 2, i)\n",
        "    df[column].hist()\n",
        "    plt.title(f'Distribution of {column}')\n",
        "\n",
        "plt.tight_layout()\n",
        "plt.show()\n"
      ],
      "metadata": {
        "colab": {
          "base_uri": "https://localhost:8080/",
          "height": 807
        },
        "id": "QgmBjI7Vt4W0",
        "outputId": "a4d8421b-dc18-40e5-d6b8-f85298361835"
      },
      "execution_count": 151,
      "outputs": [
        {
          "output_type": "display_data",
          "data": {
            "text/plain": [
              "<Figure size 1200x800 with 4 Axes>"
            ],
            "image/png": "[encoded data removed]"
          },
          "metadata": {}
        }
      ]
    },
    {
      "cell_type": "code",
      "source": [
        "# Exclude non-numeric columns from the DataFrame\n",
        "numeric_df = df.select_dtypes(include=['int64', 'float64'])\n",
        "\n",
        "# Compute the correlation matrix\n",
        "corr_matrix = numeric_df.corr()\n",
        "\n",
        "# Display the correlation matrix\n",
        "print(corr_matrix)\n"
      ],
      "metadata": {
        "colab": {
          "base_uri": "https://localhost:8080/"
        },
        "id": "YlngmTust4aO",
        "outputId": "0e31bf5c-a3f3-4f85-b318-88a486c5e731"
      },
      "execution_count": 152,
      "outputs": [
        {
          "output_type": "stream",
          "name": "stdout",
          "text": [
            "                   Year  Selling_Price  Present_Price  Kms_Driven     Owner\n",
            "Year           1.000000       0.236141      -0.047584   -0.524342 -0.182104\n",
            "Selling_Price  0.236141       1.000000       0.878983    0.029187 -0.088344\n",
            "Present_Price -0.047584       0.878983       1.000000    0.203647  0.008057\n",
            "Kms_Driven    -0.524342       0.029187       0.203647    1.000000  0.089216\n",
            "Owner         -0.182104      -0.088344       0.008057    0.089216  1.000000\n"
          ]
        }
      ]
    },
    {
      "cell_type": "code",
      "source": [
        "missing_values = df.isnull().sum()\n",
        "print(missing_values)\n"
      ],
      "metadata": {
        "colab": {
          "base_uri": "https://localhost:8080/"
        },
        "id": "zjbxVYpcbZlN",
        "outputId": "7e688f67-b4dc-437f-c321-cb41a9092f3e"
      },
      "execution_count": 153,
      "outputs": [
        {
          "output_type": "stream",
          "name": "stdout",
          "text": [
            "Car_Name         0\n",
            "Year             0\n",
            "Selling_Price    0\n",
            "Present_Price    0\n",
            "Kms_Driven       0\n",
            "Fuel_Type        0\n",
            "Seller_Type      0\n",
            "Transmission     0\n",
            "Owner            0\n",
            "dtype: int64\n"
          ]
        }
      ]
    },
    {
      "cell_type": "code",
      "source": [
        "duplicates = df.duplicated().sum()\n",
        "print(f'Duplicates: {duplicates}')\n"
      ],
      "metadata": {
        "colab": {
          "base_uri": "https://localhost:8080/"
        },
        "id": "qRwpxz8gbZug",
        "outputId": "09d1d52e-f54b-4e42-c8d0-62823b41d1b5"
      },
      "execution_count": 154,
      "outputs": [
        {
          "output_type": "stream",
          "name": "stdout",
          "text": [
            "Duplicates: 2\n"
          ]
        }
      ]
    },
    {
      "cell_type": "code",
      "source": [
        "# Remove duplicate rows\n",
        "df = df.drop_duplicates()\n",
        "\n",
        "# Verify if duplicates are removed\n",
        "print(f'Duplicates after removal: {df.duplicated().sum()}')\n"
      ],
      "metadata": {
        "colab": {
          "base_uri": "https://localhost:8080/"
        },
        "id": "H4D5bUYXbZwt",
        "outputId": "70da7f29-d5a3-4055-ec65-20eb7ce878a4"
      },
      "execution_count": 155,
      "outputs": [
        {
          "output_type": "stream",
          "name": "stdout",
          "text": [
            "Duplicates after removal: 0\n"
          ]
        }
      ]
    },
    {
      "cell_type": "code",
      "source": [
        "# Identify duplicate rows\n",
        "duplicates = df[df.duplicated()]\n",
        "\n",
        "# Display the duplicate rows\n",
        "print(duplicates)\n"
      ],
      "metadata": {
        "colab": {
          "base_uri": "https://localhost:8080/"
        },
        "id": "4lzkGXCAbZyy",
        "outputId": "f6c500d4-57cb-4ca8-ce76-c2b493b9c6a6"
      },
      "execution_count": 156,
      "outputs": [
        {
          "output_type": "stream",
          "name": "stdout",
          "text": [
            "Empty DataFrame\n",
            "Columns: [Car_Name, Year, Selling_Price, Present_Price, Kms_Driven, Fuel_Type, Seller_Type, Transmission, Owner]\n",
            "Index: []\n"
          ]
        }
      ]
    },
    {
      "cell_type": "code",
      "source": [
        "# Save the original DataFrame\n",
        "original_df = df.copy()\n",
        "\n"
      ],
      "metadata": {
        "id": "6sk2dVwGbZ03"
      },
      "execution_count": 157,
      "outputs": []
    },
    {
      "cell_type": "code",
      "source": [
        "# Check for the column containing the problematic string value\n",
        "problematic_column = None\n",
        "for column in df.columns:\n",
        "    if df[column].dtype == 'object' and df[column].str.contains('Bajaj Pulsar 220 F').any():\n",
        "        problematic_column = column\n",
        "        break\n",
        "\n",
        "# Print the name of the problematic column\n",
        "if problematic_column:\n",
        "    print(f\"Problematic column found: {problematic_column}\")\n",
        "else:\n",
        "    print(\"No problematic column found.\")\n",
        "\n",
        "# If a problematic column is found, filter the DataFrame to show rows where the problematic string value occurs\n",
        "if problematic_column:\n",
        "    problematic_rows = df[df[problematic_column] == 'Bajaj Pulsar 220 F']\n",
        "    print(\"Rows with problematic string value:\")\n",
        "    print(problematic_rows)\n"
      ],
      "metadata": {
        "colab": {
          "base_uri": "https://localhost:8080/"
        },
        "id": "zkJi8K4Fup-r",
        "outputId": "e6ab9d71-640e-4b00-eda4-ad14bfb6b3a7"
      },
      "execution_count": 158,
      "outputs": [
        {
          "output_type": "stream",
          "name": "stdout",
          "text": [
            "Problematic column found: Car_Name\n",
            "Rows with problematic string value:\n",
            "               Car_Name  Year  Selling_Price  Present_Price  Kms_Driven  \\\n",
            "148  Bajaj Pulsar 220 F  2010           0.52           0.94       45000   \n",
            "149  Bajaj Pulsar 220 F  2016           0.51           0.94       24000   \n",
            "\n",
            "    Fuel_Type Seller_Type Transmission  Owner  \n",
            "148    Petrol  Individual       Manual      0  \n",
            "149    Petrol  Individual       Manual      0  \n"
          ]
        }
      ]
    },
    {
      "cell_type": "code",
      "source": [
        "# Remove the rows with the problematic string value\n",
        "df_cleaned = df[df['Car_Name'] != 'Bajaj Pulsar 220 F']\n",
        "\n",
        "# Verify that the rows are removed\n",
        "print(\"Rows with problematic string value removed:\")\n",
        "print(df_cleaned[df_cleaned['Car_Name'] == 'Bajaj Pulsar 220 F'])"
      ],
      "metadata": {
        "colab": {
          "base_uri": "https://localhost:8080/"
        },
        "id": "J052_Wo7uqAx",
        "outputId": "7b962666-c08a-4d32-d160-05a53015bb30"
      },
      "execution_count": 159,
      "outputs": [
        {
          "output_type": "stream",
          "name": "stdout",
          "text": [
            "Rows with problematic string value removed:\n",
            "Empty DataFrame\n",
            "Columns: [Car_Name, Year, Selling_Price, Present_Price, Kms_Driven, Fuel_Type, Seller_Type, Transmission, Owner]\n",
            "Index: []\n"
          ]
        }
      ]
    },
    {
      "cell_type": "code",
      "source": [
        "df_encoded = pd.get_dummies(df_cleaned, columns=['Fuel_Type', 'Seller_Type', 'Transmission'])\n",
        "\n",
        "# Verify the encoded DataFrame\n",
        "print(\"Encoded DataFrame:\")\n",
        "print(df_encoded.head())"
      ],
      "metadata": {
        "colab": {
          "base_uri": "https://localhost:8080/"
        },
        "id": "NB8TmfCKuqDB",
        "outputId": "0a03a92f-4a73-4028-a306-9627a3306ff9"
      },
      "execution_count": 160,
      "outputs": [
        {
          "output_type": "stream",
          "name": "stdout",
          "text": [
            "Encoded DataFrame:\n",
            "  Car_Name  Year  Selling_Price  Present_Price  Kms_Driven  Owner  \\\n",
            "0     ritz  2014           3.35           5.59       27000      0   \n",
            "1      sx4  2013           4.75           9.54       43000      0   \n",
            "2     ciaz  2017           7.25           9.85        6900      0   \n",
            "3  wagon r  2011           2.85           4.15        5200      0   \n",
            "4    swift  2014           4.60           6.87       42450      0   \n",
            "\n",
            "   Fuel_Type_CNG  Fuel_Type_Diesel  Fuel_Type_Petrol  Seller_Type_Dealer  \\\n",
            "0          False             False              True                True   \n",
            "1          False              True             False                True   \n",
            "2          False             False              True                True   \n",
            "3          False             False              True                True   \n",
            "4          False              True             False                True   \n",
            "\n",
            "   Seller_Type_Individual  Transmission_Automatic  Transmission_Manual  \n",
            "0                   False                   False                 True  \n",
            "1                   False                   False                 True  \n",
            "2                   False                   False                 True  \n",
            "3                   False                   False                 True  \n",
            "4                   False                   False                 True  \n"
          ]
        }
      ]
    },
    {
      "cell_type": "code",
      "source": [],
      "metadata": {
        "id": "TyMHyebHxJMe"
      },
      "execution_count": 160,
      "outputs": []
    },
    {
      "cell_type": "code",
      "source": [],
      "metadata": {
        "id": "CXGxJ06VxJPH"
      },
      "execution_count": 160,
      "outputs": []
    },
    {
      "cell_type": "code",
      "source": [],
      "metadata": {
        "id": "p70rrsQIxJSE"
      },
      "execution_count": 160,
      "outputs": []
    },
    {
      "cell_type": "markdown",
      "source": [
        "# **Now** we split it here\n",
        "\n",
        "\n"
      ],
      "metadata": {
        "id": "Q36R5ID_grJw"
      }
    },
    {
      "cell_type": "code",
      "source": [
        "# One-hot encode categorical variables\n",
        "df_encoded = pd.get_dummies(df, drop_first=False)\n",
        "\n",
        "# Display the first few rows of the encoded DataFrame\n",
        "print(df_encoded.head())\n"
      ],
      "metadata": {
        "colab": {
          "base_uri": "https://localhost:8080/"
        },
        "id": "rDwK49SZbZ3E",
        "outputId": "3d80f9e9-492f-4a38-dae3-3f4b2805901e"
      },
      "execution_count": 161,
      "outputs": [
        {
          "output_type": "stream",
          "name": "stdout",
          "text": [
            "   Year  Selling_Price  Present_Price  Kms_Driven  Owner  Car_Name_800  \\\n",
            "0  2014           3.35           5.59       27000      0         False   \n",
            "1  2013           4.75           9.54       43000      0         False   \n",
            "2  2017           7.25           9.85        6900      0         False   \n",
            "3  2011           2.85           4.15        5200      0         False   \n",
            "4  2014           4.60           6.87       42450      0         False   \n",
            "\n",
            "   Car_Name_Activa 3g  Car_Name_Activa 4g  Car_Name_Bajaj  ct 100  \\\n",
            "0               False               False                   False   \n",
            "1               False               False                   False   \n",
            "2               False               False                   False   \n",
            "3               False               False                   False   \n",
            "4               False               False                   False   \n",
            "\n",
            "   Car_Name_Bajaj Avenger 150  ...  Car_Name_vitara brezza  Car_Name_wagon r  \\\n",
            "0                       False  ...                   False             False   \n",
            "1                       False  ...                   False             False   \n",
            "2                       False  ...                   False             False   \n",
            "3                       False  ...                   False              True   \n",
            "4                       False  ...                   False             False   \n",
            "\n",
            "   Car_Name_xcent  Fuel_Type_CNG  Fuel_Type_Diesel  Fuel_Type_Petrol  \\\n",
            "0           False          False             False              True   \n",
            "1           False          False              True             False   \n",
            "2           False          False             False              True   \n",
            "3           False          False             False              True   \n",
            "4           False          False              True             False   \n",
            "\n",
            "   Seller_Type_Dealer  Seller_Type_Individual  Transmission_Automatic  \\\n",
            "0                True                   False                   False   \n",
            "1                True                   False                   False   \n",
            "2                True                   False                   False   \n",
            "3                True                   False                   False   \n",
            "4                True                   False                   False   \n",
            "\n",
            "   Transmission_Manual  \n",
            "0                 True  \n",
            "1                 True  \n",
            "2                 True  \n",
            "3                 True  \n",
            "4                 True  \n",
            "\n",
            "[5 rows x 110 columns]\n"
          ]
        }
      ]
    },
    {
      "cell_type": "code",
      "source": [
        "\n",
        "from sklearn.model_selection import train_test_split\n"
      ],
      "metadata": {
        "id": "8MwUS3rwbZ5Q"
      },
      "execution_count": 162,
      "outputs": []
    },
    {
      "cell_type": "code",
      "source": [
        "# Assuming 'Selling_Price' is your target variable\n",
        "X = df_encoded.drop('Selling_Price', axis=1)  # Features\n",
        "y = df_encoded['Selling_Price']                # Target variable\n"
      ],
      "metadata": {
        "id": "45NbGf2tbZ7V"
      },
      "execution_count": 163,
      "outputs": []
    },
    {
      "cell_type": "code",
      "source": [
        "# Split the data into training and testing sets\n",
        "X_train, X_test, y_train, y_test = train_test_split(X, y, test_size=0.2, random_state=2024)\n"
      ],
      "metadata": {
        "id": "_cSf1Qfpj82u"
      },
      "execution_count": 164,
      "outputs": []
    },
    {
      "cell_type": "markdown",
      "source": [
        "#Splitting done. Now we train"
      ],
      "metadata": {
        "id": "S4CvPQ8HmHgV"
      }
    },
    {
      "cell_type": "code",
      "source": [
        "from sklearn.linear_model import LinearRegression\n"
      ],
      "metadata": {
        "id": "Rhm_MU-Uj85l"
      },
      "execution_count": 165,
      "outputs": []
    },
    {
      "cell_type": "code",
      "source": [
        "# Initialize the Linear Regression model\n",
        "model = LinearRegression()\n"
      ],
      "metadata": {
        "id": "lFJ9puPsj88N"
      },
      "execution_count": 166,
      "outputs": []
    },
    {
      "cell_type": "code",
      "source": [
        "# Train the model on the training data\n",
        "model.fit(X_train, y_train)\n"
      ],
      "metadata": {
        "colab": {
          "base_uri": "https://localhost:8080/",
          "height": 75
        },
        "id": "JN13BHA4paKu",
        "outputId": "7b3bbf42-aed7-4dda-a67f-57d9544afa0d"
      },
      "execution_count": 167,
      "outputs": [
        {
          "output_type": "execute_result",
          "data": {
            "text/plain": [
              "LinearRegression()"
            ],
            "text/html": [
              "<style>#sk-container-id-3 {color: black;}#sk-container-id-3 pre{padding: 0;}#sk-container-id-3 div.sk-toggleable {background-color: white;}#sk-container-id-3 label.sk-toggleable__label {cursor: pointer;display: block;width: 100%;margin-bottom: 0;padding: 0.3em;box-sizing: border-box;text-align: center;}#sk-container-id-3 label.sk-toggleable__label-arrow:before {content: \"▸\";float: left;margin-right: 0.25em;color: #696969;}#sk-container-id-3 label.sk-toggleable__label-arrow:hover:before {color: black;}#sk-container-id-3 div.sk-estimator:hover label.sk-toggleable__label-arrow:before {color: black;}#sk-container-id-3 div.sk-toggleable__content {max-height: 0;max-width: 0;overflow: hidden;text-align: left;background-color: #f0f8ff;}#sk-container-id-3 div.sk-toggleable__content pre {margin: 0.2em;color: black;border-radius: 0.25em;background-color: #f0f8ff;}#sk-container-id-3 input.sk-toggleable__control:checked~div.sk-toggleable__content {max-height: 200px;max-width: 100%;overflow: auto;}#sk-container-id-3 input.sk-toggleable__control:checked~label.sk-toggleable__label-arrow:before {content: \"▾\";}#sk-container-id-3 div.sk-estimator input.sk-toggleable__control:checked~label.sk-toggleable__label {background-color: #d4ebff;}#sk-container-id-3 div.sk-label input.sk-toggleable__control:checked~label.sk-toggleable__label {background-color: #d4ebff;}#sk-container-id-3 input.sk-hidden--visually {border: 0;clip: rect(1px 1px 1px 1px);clip: rect(1px, 1px, 1px, 1px);height: 1px;margin: -1px;overflow: hidden;padding: 0;position: absolute;width: 1px;}#sk-container-id-3 div.sk-estimator {font-family: monospace;background-color: #f0f8ff;border: 1px dotted black;border-radius: 0.25em;box-sizing: border-box;margin-bottom: 0.5em;}#sk-container-id-3 div.sk-estimator:hover {background-color: #d4ebff;}#sk-container-id-3 div.sk-parallel-item::after {content: \"\";width: 100%;border-bottom: 1px solid gray;flex-grow: 1;}#sk-container-id-3 div.sk-label:hover label.sk-toggleable__label {background-color: #d4ebff;}#sk-container-id-3 div.sk-serial::before {content: \"\";position: absolute;border-left: 1px solid gray;box-sizing: border-box;top: 0;bottom: 0;left: 50%;z-index: 0;}#sk-container-id-3 div.sk-serial {display: flex;flex-direction: column;align-items: center;background-color: white;padding-right: 0.2em;padding-left: 0.2em;position: relative;}#sk-container-id-3 div.sk-item {position: relative;z-index: 1;}#sk-container-id-3 div.sk-parallel {display: flex;align-items: stretch;justify-content: center;background-color: white;position: relative;}#sk-container-id-3 div.sk-item::before, #sk-container-id-3 div.sk-parallel-item::before {content: \"\";position: absolute;border-left: 1px solid gray;box-sizing: border-box;top: 0;bottom: 0;left: 50%;z-index: -1;}#sk-container-id-3 div.sk-parallel-item {display: flex;flex-direction: column;z-index: 1;position: relative;background-color: white;}#sk-container-id-3 div.sk-parallel-item:first-child::after {align-self: flex-end;width: 50%;}#sk-container-id-3 div.sk-parallel-item:last-child::after {align-self: flex-start;width: 50%;}#sk-container-id-3 div.sk-parallel-item:only-child::after {width: 0;}#sk-container-id-3 div.sk-dashed-wrapped {border: 1px dashed gray;margin: 0 0.4em 0.5em 0.4em;box-sizing: border-box;padding-bottom: 0.4em;background-color: white;}#sk-container-id-3 div.sk-label label {font-family: monospace;font-weight: bold;display: inline-block;line-height: 1.2em;}#sk-container-id-3 div.sk-label-container {text-align: center;}#sk-container-id-3 div.sk-container {/* jupyter's `normalize.less` sets `[hidden] { display: none; }` but bootstrap.min.css set `[hidden] { display: none !important; }` so we also need the `!important` here to be able to override the default hidden behavior on the sphinx rendered scikit-learn.org. See: https://github.com/scikit-learn/scikit-learn/issues/21755 */display: inline-block !important;position: relative;}#sk-container-id-3 div.sk-text-repr-fallback {display: none;}</style><div id=\"sk-container-id-3\" class=\"sk-top-container\"><div class=\"sk-text-repr-fallback\"><pre>LinearRegression()</pre><b>In a Jupyter environment, please rerun this cell to show the HTML representation or trust the notebook. <br />On GitHub, the HTML representation is unable to render, please try loading this page with nbviewer.org.</b></div><div class=\"sk-container\" hidden><div class=\"sk-item\"><div class=\"sk-estimator sk-toggleable\"><input class=\"sk-toggleable__control sk-hidden--visually\" id=\"sk-estimator-id-3\" type=\"checkbox\" checked><label for=\"sk-estimator-id-3\" class=\"sk-toggleable__label sk-toggleable__label-arrow\">LinearRegression</label><div class=\"sk-toggleable__content\"><pre>LinearRegression()</pre></div></div></div></div></div>"
            ]
          },
          "metadata": {},
          "execution_count": 167
        }
      ]
    },
    {
      "cell_type": "code",
      "source": [
        "df_encoded"
      ],
      "metadata": {
        "id": "9Ajqf9VrpaNJ",
        "colab": {
          "base_uri": "https://localhost:8080/",
          "height": 461
        },
        "outputId": "0c6c580c-11aa-4088-cf4a-48e7cbcacd5f"
      },
      "execution_count": 168,
      "outputs": [
        {
          "output_type": "execute_result",
          "data": {
            "text/plain": [
              "     Year  Selling_Price  Present_Price  Kms_Driven  Owner  Car_Name_800  \\\n",
              "0    2014           3.35           5.59       27000      0         False   \n",
              "1    2013           4.75           9.54       43000      0         False   \n",
              "2    2017           7.25           9.85        6900      0         False   \n",
              "3    2011           2.85           4.15        5200      0         False   \n",
              "4    2014           4.60           6.87       42450      0         False   \n",
              "..    ...            ...            ...         ...    ...           ...   \n",
              "296  2016           9.50          11.60       33988      0         False   \n",
              "297  2015           4.00           5.90       60000      0         False   \n",
              "298  2009           3.35          11.00       87934      0         False   \n",
              "299  2017          11.50          12.50        9000      0         False   \n",
              "300  2016           5.30           5.90        5464      0         False   \n",
              "\n",
              "     Car_Name_Activa 3g  Car_Name_Activa 4g  Car_Name_Bajaj  ct 100  \\\n",
              "0                 False               False                   False   \n",
              "1                 False               False                   False   \n",
              "2                 False               False                   False   \n",
              "3                 False               False                   False   \n",
              "4                 False               False                   False   \n",
              "..                  ...                 ...                     ...   \n",
              "296               False               False                   False   \n",
              "297               False               False                   False   \n",
              "298               False               False                   False   \n",
              "299               False               False                   False   \n",
              "300               False               False                   False   \n",
              "\n",
              "     Car_Name_Bajaj Avenger 150  ...  Car_Name_vitara brezza  \\\n",
              "0                         False  ...                   False   \n",
              "1                         False  ...                   False   \n",
              "2                         False  ...                   False   \n",
              "3                         False  ...                   False   \n",
              "4                         False  ...                   False   \n",
              "..                          ...  ...                     ...   \n",
              "296                       False  ...                   False   \n",
              "297                       False  ...                   False   \n",
              "298                       False  ...                   False   \n",
              "299                       False  ...                   False   \n",
              "300                       False  ...                   False   \n",
              "\n",
              "     Car_Name_wagon r  Car_Name_xcent  Fuel_Type_CNG  Fuel_Type_Diesel  \\\n",
              "0               False           False          False             False   \n",
              "1               False           False          False              True   \n",
              "2               False           False          False             False   \n",
              "3                True           False          False             False   \n",
              "4               False           False          False              True   \n",
              "..                ...             ...            ...               ...   \n",
              "296             False           False          False              True   \n",
              "297             False           False          False             False   \n",
              "298             False           False          False             False   \n",
              "299             False           False          False              True   \n",
              "300             False           False          False             False   \n",
              "\n",
              "     Fuel_Type_Petrol  Seller_Type_Dealer  Seller_Type_Individual  \\\n",
              "0                True                True                   False   \n",
              "1               False                True                   False   \n",
              "2                True                True                   False   \n",
              "3                True                True                   False   \n",
              "4               False                True                   False   \n",
              "..                ...                 ...                     ...   \n",
              "296             False                True                   False   \n",
              "297              True                True                   False   \n",
              "298              True                True                   False   \n",
              "299             False                True                   False   \n",
              "300              True                True                   False   \n",
              "\n",
              "     Transmission_Automatic  Transmission_Manual  \n",
              "0                     False                 True  \n",
              "1                     False                 True  \n",
              "2                     False                 True  \n",
              "3                     False                 True  \n",
              "4                     False                 True  \n",
              "..                      ...                  ...  \n",
              "296                   False                 True  \n",
              "297                   False                 True  \n",
              "298                   False                 True  \n",
              "299                   False                 True  \n",
              "300                   False                 True  \n",
              "\n",
              "[299 rows x 110 columns]"
            ],
            "text/html": [
              "\n",
              "  <div id=\"df-c43ddae7-6105-4df9-9e6c-4710bc41fb64\" class=\"colab-df-container\">\n",
              "    <div>\n",
              "<style scoped>\n",
              "    .dataframe tbody tr th:only-of-type {\n",
              "        vertical-align: middle;\n",
              "    }\n",
              "\n",
              "    .dataframe tbody tr th {\n",
              "        vertical-align: top;\n",
              "    }\n",
              "\n",
              "    .dataframe thead th {\n",
              "        text-align: right;\n",
              "    }\n",
              "</style>\n",
              "<table border=\"1\" class=\"dataframe\">\n",
              "  <thead>\n",
              "    <tr style=\"text-align: right;\">\n",
              "      <th></th>\n",
              "      <th>Year</th>\n",
              "      <th>Selling_Price</th>\n",
              "      <th>Present_Price</th>\n",
              "      <th>Kms_Driven</th>\n",
              "      <th>Owner</th>\n",
              "      <th>Car_Name_800</th>\n",
              "      <th>Car_Name_Activa 3g</th>\n",
              "      <th>Car_Name_Activa 4g</th>\n",
              "      <th>Car_Name_Bajaj  ct 100</th>\n",
              "      <th>Car_Name_Bajaj Avenger 150</th>\n",
              "      <th>...</th>\n",
              "      <th>Car_Name_vitara brezza</th>\n",
              "      <th>Car_Name_wagon r</th>\n",
              "      <th>Car_Name_xcent</th>\n",
              "      <th>Fuel_Type_CNG</th>\n",
              "      <th>Fuel_Type_Diesel</th>\n",
              "      <th>Fuel_Type_Petrol</th>\n",
              "      <th>Seller_Type_Dealer</th>\n",
              "      <th>Seller_Type_Individual</th>\n",
              "      <th>Transmission_Automatic</th>\n",
              "      <th>Transmission_Manual</th>\n",
              "    </tr>\n",
              "  </thead>\n",
              "  <tbody>\n",
              "    <tr>\n",
              "      <th>0</th>\n",
              "      <td>2014</td>\n",
              "      <td>3.35</td>\n",
              "      <td>5.59</td>\n",
              "      <td>27000</td>\n",
              "      <td>0</td>\n",
              "      <td>False</td>\n",
              "      <td>False</td>\n",
              "      <td>False</td>\n",
              "      <td>False</td>\n",
              "      <td>False</td>\n",
              "      <td>...</td>\n",
              "      <td>False</td>\n",
              "      <td>False</td>\n",
              "      <td>False</td>\n",
              "      <td>False</td>\n",
              "      <td>False</td>\n",
              "      <td>True</td>\n",
              "      <td>True</td>\n",
              "      <td>False</td>\n",
              "      <td>False</td>\n",
              "      <td>True</td>\n",
              "    </tr>\n",
              "    <tr>\n",
              "      <th>1</th>\n",
              "      <td>2013</td>\n",
              "      <td>4.75</td>\n",
              "      <td>9.54</td>\n",
              "      <td>43000</td>\n",
              "      <td>0</td>\n",
              "      <td>False</td>\n",
              "      <td>False</td>\n",
              "      <td>False</td>\n",
              "      <td>False</td>\n",
              "      <td>False</td>\n",
              "      <td>...</td>\n",
              "      <td>False</td>\n",
              "      <td>False</td>\n",
              "      <td>False</td>\n",
              "      <td>False</td>\n",
              "      <td>True</td>\n",
              "      <td>False</td>\n",
              "      <td>True</td>\n",
              "      <td>False</td>\n",
              "      <td>False</td>\n",
              "      <td>True</td>\n",
              "    </tr>\n",
              "    <tr>\n",
              "      <th>2</th>\n",
              "      <td>2017</td>\n",
              "      <td>7.25</td>\n",
              "      <td>9.85</td>\n",
              "      <td>6900</td>\n",
              "      <td>0</td>\n",
              "      <td>False</td>\n",
              "      <td>False</td>\n",
              "      <td>False</td>\n",
              "      <td>False</td>\n",
              "      <td>False</td>\n",
              "      <td>...</td>\n",
              "      <td>False</td>\n",
              "      <td>False</td>\n",
              "      <td>False</td>\n",
              "      <td>False</td>\n",
              "      <td>False</td>\n",
              "      <td>True</td>\n",
              "      <td>True</td>\n",
              "      <td>False</td>\n",
              "      <td>False</td>\n",
              "      <td>True</td>\n",
              "    </tr>\n",
              "    <tr>\n",
              "      <th>3</th>\n",
              "      <td>2011</td>\n",
              "      <td>2.85</td>\n",
              "      <td>4.15</td>\n",
              "      <td>5200</td>\n",
              "      <td>0</td>\n",
              "      <td>False</td>\n",
              "      <td>False</td>\n",
              "      <td>False</td>\n",
              "      <td>False</td>\n",
              "      <td>False</td>\n",
              "      <td>...</td>\n",
              "      <td>False</td>\n",
              "      <td>True</td>\n",
              "      <td>False</td>\n",
              "      <td>False</td>\n",
              "      <td>False</td>\n",
              "      <td>True</td>\n",
              "      <td>True</td>\n",
              "      <td>False</td>\n",
              "      <td>False</td>\n",
              "      <td>True</td>\n",
              "    </tr>\n",
              "    <tr>\n",
              "      <th>4</th>\n",
              "      <td>2014</td>\n",
              "      <td>4.60</td>\n",
              "      <td>6.87</td>\n",
              "      <td>42450</td>\n",
              "      <td>0</td>\n",
              "      <td>False</td>\n",
              "      <td>False</td>\n",
              "      <td>False</td>\n",
              "      <td>False</td>\n",
              "      <td>False</td>\n",
              "      <td>...</td>\n",
              "      <td>False</td>\n",
              "      <td>False</td>\n",
              "      <td>False</td>\n",
              "      <td>False</td>\n",
              "      <td>True</td>\n",
              "      <td>False</td>\n",
              "      <td>True</td>\n",
              "      <td>False</td>\n",
              "      <td>False</td>\n",
              "      <td>True</td>\n",
              "    </tr>\n",
              "    <tr>\n",
              "      <th>...</th>\n",
              "      <td>...</td>\n",
              "      <td>...</td>\n",
              "      <td>...</td>\n",
              "      <td>...</td>\n",
              "      <td>...</td>\n",
              "      <td>...</td>\n",
              "      <td>...</td>\n",
              "      <td>...</td>\n",
              "      <td>...</td>\n",
              "      <td>...</td>\n",
              "      <td>...</td>\n",
              "      <td>...</td>\n",
              "      <td>...</td>\n",
              "      <td>...</td>\n",
              "      <td>...</td>\n",
              "      <td>...</td>\n",
              "      <td>...</td>\n",
              "      <td>...</td>\n",
              "      <td>...</td>\n",
              "      <td>...</td>\n",
              "      <td>...</td>\n",
              "    </tr>\n",
              "    <tr>\n",
              "      <th>296</th>\n",
              "      <td>2016</td>\n",
              "      <td>9.50</td>\n",
              "      <td>11.60</td>\n",
              "      <td>33988</td>\n",
              "      <td>0</td>\n",
              "      <td>False</td>\n",
              "      <td>False</td>\n",
              "      <td>False</td>\n",
              "      <td>False</td>\n",
              "      <td>False</td>\n",
              "      <td>...</td>\n",
              "      <td>False</td>\n",
              "      <td>False</td>\n",
              "      <td>False</td>\n",
              "      <td>False</td>\n",
              "      <td>True</td>\n",
              "      <td>False</td>\n",
              "      <td>True</td>\n",
              "      <td>False</td>\n",
              "      <td>False</td>\n",
              "      <td>True</td>\n",
              "    </tr>\n",
              "    <tr>\n",
              "      <th>297</th>\n",
              "      <td>2015</td>\n",
              "      <td>4.00</td>\n",
              "      <td>5.90</td>\n",
              "      <td>60000</td>\n",
              "      <td>0</td>\n",
              "      <td>False</td>\n",
              "      <td>False</td>\n",
              "      <td>False</td>\n",
              "      <td>False</td>\n",
              "      <td>False</td>\n",
              "      <td>...</td>\n",
              "      <td>False</td>\n",
              "      <td>False</td>\n",
              "      <td>False</td>\n",
              "      <td>False</td>\n",
              "      <td>False</td>\n",
              "      <td>True</td>\n",
              "      <td>True</td>\n",
              "      <td>False</td>\n",
              "      <td>False</td>\n",
              "      <td>True</td>\n",
              "    </tr>\n",
              "    <tr>\n",
              "      <th>298</th>\n",
              "      <td>2009</td>\n",
              "      <td>3.35</td>\n",
              "      <td>11.00</td>\n",
              "      <td>87934</td>\n",
              "      <td>0</td>\n",
              "      <td>False</td>\n",
              "      <td>False</td>\n",
              "      <td>False</td>\n",
              "      <td>False</td>\n",
              "      <td>False</td>\n",
              "      <td>...</td>\n",
              "      <td>False</td>\n",
              "      <td>False</td>\n",
              "      <td>False</td>\n",
              "      <td>False</td>\n",
              "      <td>False</td>\n",
              "      <td>True</td>\n",
              "      <td>True</td>\n",
              "      <td>False</td>\n",
              "      <td>False</td>\n",
              "      <td>True</td>\n",
              "    </tr>\n",
              "    <tr>\n",
              "      <th>299</th>\n",
              "      <td>2017</td>\n",
              "      <td>11.50</td>\n",
              "      <td>12.50</td>\n",
              "      <td>9000</td>\n",
              "      <td>0</td>\n",
              "      <td>False</td>\n",
              "      <td>False</td>\n",
              "      <td>False</td>\n",
              "      <td>False</td>\n",
              "      <td>False</td>\n",
              "      <td>...</td>\n",
              "      <td>False</td>\n",
              "      <td>False</td>\n",
              "      <td>False</td>\n",
              "      <td>False</td>\n",
              "      <td>True</td>\n",
              "      <td>False</td>\n",
              "      <td>True</td>\n",
              "      <td>False</td>\n",
              "      <td>False</td>\n",
              "      <td>True</td>\n",
              "    </tr>\n",
              "    <tr>\n",
              "      <th>300</th>\n",
              "      <td>2016</td>\n",
              "      <td>5.30</td>\n",
              "      <td>5.90</td>\n",
              "      <td>5464</td>\n",
              "      <td>0</td>\n",
              "      <td>False</td>\n",
              "      <td>False</td>\n",
              "      <td>False</td>\n",
              "      <td>False</td>\n",
              "      <td>False</td>\n",
              "      <td>...</td>\n",
              "      <td>False</td>\n",
              "      <td>False</td>\n",
              "      <td>False</td>\n",
              "      <td>False</td>\n",
              "      <td>False</td>\n",
              "      <td>True</td>\n",
              "      <td>True</td>\n",
              "      <td>False</td>\n",
              "      <td>False</td>\n",
              "      <td>True</td>\n",
              "    </tr>\n",
              "  </tbody>\n",
              "</table>\n",
              "<p>299 rows × 110 columns</p>\n",
              "</div>\n",
              "    <div class=\"colab-df-buttons\">\n",
              "\n",
              "  <div class=\"colab-df-container\">\n",
              "    <button class=\"colab-df-convert\" onclick=\"convertToInteractive('df-c43ddae7-6105-4df9-9e6c-4710bc41fb64')\"\n",
              "            title=\"Convert this dataframe to an interactive table.\"\n",
              "            style=\"display:none;\">\n",
              "\n",
              "  <svg xmlns=\"http://www.w3.org/2000/svg\" height=\"24px\" viewBox=\"0 -960 960 960\">\n",
              "    <path d=\"M120-120v-720h720v720H120Zm60-500h600v-160H180v160Zm220 220h160v-160H400v160Zm0 220h160v-160H400v160ZM180-400h160v-160H180v160Zm440 0h160v-160H620v160ZM180-180h160v-160H180v160Zm440 0h160v-160H620v160Z\"/>\n",
              "  </svg>\n",
              "    </button>\n",
              "\n",
              "  <style>\n",
              "    .colab-df-container {\n",
              "      display:flex;\n",
              "      gap: 12px;\n",
              "    }\n",
              "\n",
              "    .colab-df-convert {\n",
              "      background-color: #E8F0FE;\n",
              "      border: none;\n",
              "      border-radius: 50%;\n",
              "      cursor: pointer;\n",
              "      display: none;\n",
              "      fill: #1967D2;\n",
              "      height: 32px;\n",
              "      padding: 0 0 0 0;\n",
              "      width: 32px;\n",
              "    }\n",
              "\n",
              "    .colab-df-convert:hover {\n",
              "      background-color: #E2EBFA;\n",
              "      box-shadow: 0px 1px 2px rgba(60, 64, 67, 0.3), 0px 1px 3px 1px rgba(60, 64, 67, 0.15);\n",
              "      fill: #174EA6;\n",
              "    }\n",
              "\n",
              "    .colab-df-buttons div {\n",
              "      margin-bottom: 4px;\n",
              "    }\n",
              "\n",
              "    [theme=dark] .colab-df-convert {\n",
              "      background-color: #3B4455;\n",
              "      fill: #D2E3FC;\n",
              "    }\n",
              "\n",
              "    [theme=dark] .colab-df-convert:hover {\n",
              "      background-color: #434B5C;\n",
              "      box-shadow: 0px 1px 3px 1px rgba(0, 0, 0, 0.15);\n",
              "      filter: drop-shadow(0px 1px 2px rgba(0, 0, 0, 0.3));\n",
              "      fill: #FFFFFF;\n",
              "    }\n",
              "  </style>\n",
              "\n",
              "    <script>\n",
              "      const buttonEl =\n",
              "        document.querySelector('#df-c43ddae7-6105-4df9-9e6c-4710bc41fb64 button.colab-df-convert');\n",
              "      buttonEl.style.display =\n",
              "        google.colab.kernel.accessAllowed ? 'block' : 'none';\n",
              "\n",
              "      async function convertToInteractive(key) {\n",
              "        const element = document.querySelector('#df-c43ddae7-6105-4df9-9e6c-4710bc41fb64');\n",
              "        const dataTable =\n",
              "          await google.colab.kernel.invokeFunction('convertToInteractive',\n",
              "                                                    [key], {});\n",
              "        if (!dataTable) return;\n",
              "\n",
              "        const docLinkHtml = 'Like what you see? Visit the ' +\n",
              "          '<a target=\"_blank\" href=https://colab.research.google.com/notebooks/data_table.ipynb>data table notebook</a>'\n",
              "          + ' to learn more about interactive tables.';\n",
              "        element.innerHTML = '';\n",
              "        dataTable['output_type'] = 'display_data';\n",
              "        await google.colab.output.renderOutput(dataTable, element);\n",
              "        const docLink = document.createElement('div');\n",
              "        docLink.innerHTML = docLinkHtml;\n",
              "        element.appendChild(docLink);\n",
              "      }\n",
              "    </script>\n",
              "  </div>\n",
              "\n",
              "\n",
              "<div id=\"df-c6efe0a4-0d1c-4529-ae68-da77d5a8e119\">\n",
              "  <button class=\"colab-df-quickchart\" onclick=\"quickchart('df-c6efe0a4-0d1c-4529-ae68-da77d5a8e119')\"\n",
              "            title=\"Suggest charts\"\n",
              "            style=\"display:none;\">\n",
              "\n",
              "<svg xmlns=\"http://www.w3.org/2000/svg\" height=\"24px\"viewBox=\"0 0 24 24\"\n",
              "     width=\"24px\">\n",
              "    <g>\n",
              "        <path d=\"M19 3H5c-1.1 0-2 .9-2 2v14c0 1.1.9 2 2 2h14c1.1 0 2-.9 2-2V5c0-1.1-.9-2-2-2zM9 17H7v-7h2v7zm4 0h-2V7h2v10zm4 0h-2v-4h2v4z\"/>\n",
              "    </g>\n",
              "</svg>\n",
              "  </button>\n",
              "\n",
              "<style>\n",
              "  .colab-df-quickchart {\n",
              "      --bg-color: #E8F0FE;\n",
              "      --fill-color: #1967D2;\n",
              "      --hover-bg-color: #E2EBFA;\n",
              "      --hover-fill-color: #174EA6;\n",
              "      --disabled-fill-color: #AAA;\n",
              "      --disabled-bg-color: #DDD;\n",
              "  }\n",
              "\n",
              "  [theme=dark] .colab-df-quickchart {\n",
              "      --bg-color: #3B4455;\n",
              "      --fill-color: #D2E3FC;\n",
              "      --hover-bg-color: #434B5C;\n",
              "      --hover-fill-color: #FFFFFF;\n",
              "      --disabled-bg-color: #3B4455;\n",
              "      --disabled-fill-color: #666;\n",
              "  }\n",
              "\n",
              "  .colab-df-quickchart {\n",
              "    background-color: var(--bg-color);\n",
              "    border: none;\n",
              "    border-radius: 50%;\n",
              "    cursor: pointer;\n",
              "    display: none;\n",
              "    fill: var(--fill-color);\n",
              "    height: 32px;\n",
              "    padding: 0;\n",
              "    width: 32px;\n",
              "  }\n",
              "\n",
              "  .colab-df-quickchart:hover {\n",
              "    background-color: var(--hover-bg-color);\n",
              "    box-shadow: 0 1px 2px rgba(60, 64, 67, 0.3), 0 1px 3px 1px rgba(60, 64, 67, 0.15);\n",
              "    fill: var(--button-hover-fill-color);\n",
              "  }\n",
              "\n",
              "  .colab-df-quickchart-complete:disabled,\n",
              "  .colab-df-quickchart-complete:disabled:hover {\n",
              "    background-color: var(--disabled-bg-color);\n",
              "    fill: var(--disabled-fill-color);\n",
              "    box-shadow: none;\n",
              "  }\n",
              "\n",
              "  .colab-df-spinner {\n",
              "    border: 2px solid var(--fill-color);\n",
              "    border-color: transparent;\n",
              "    border-bottom-color: var(--fill-color);\n",
              "    animation:\n",
              "      spin 1s steps(1) infinite;\n",
              "  }\n",
              "\n",
              "  @keyframes spin {\n",
              "    0% {\n",
              "      border-color: transparent;\n",
              "      border-bottom-color: var(--fill-color);\n",
              "      border-left-color: var(--fill-color);\n",
              "    }\n",
              "    20% {\n",
              "      border-color: transparent;\n",
              "      border-left-color: var(--fill-color);\n",
              "      border-top-color: var(--fill-color);\n",
              "    }\n",
              "    30% {\n",
              "      border-color: transparent;\n",
              "      border-left-color: var(--fill-color);\n",
              "      border-top-color: var(--fill-color);\n",
              "      border-right-color: var(--fill-color);\n",
              "    }\n",
              "    40% {\n",
              "      border-color: transparent;\n",
              "      border-right-color: var(--fill-color);\n",
              "      border-top-color: var(--fill-color);\n",
              "    }\n",
              "    60% {\n",
              "      border-color: transparent;\n",
              "      border-right-color: var(--fill-color);\n",
              "    }\n",
              "    80% {\n",
              "      border-color: transparent;\n",
              "      border-right-color: var(--fill-color);\n",
              "      border-bottom-color: var(--fill-color);\n",
              "    }\n",
              "    90% {\n",
              "      border-color: transparent;\n",
              "      border-bottom-color: var(--fill-color);\n",
              "    }\n",
              "  }\n",
              "</style>\n",
              "\n",
              "  <script>\n",
              "    async function quickchart(key) {\n",
              "      const quickchartButtonEl =\n",
              "        document.querySelector('#' + key + ' button');\n",
              "      quickchartButtonEl.disabled = true;  // To prevent multiple clicks.\n",
              "      quickchartButtonEl.classList.add('colab-df-spinner');\n",
              "      try {\n",
              "        const charts = await google.colab.kernel.invokeFunction(\n",
              "            'suggestCharts', [key], {});\n",
              "      } catch (error) {\n",
              "        console.error('Error during call to suggestCharts:', error);\n",
              "      }\n",
              "      quickchartButtonEl.classList.remove('colab-df-spinner');\n",
              "      quickchartButtonEl.classList.add('colab-df-quickchart-complete');\n",
              "    }\n",
              "    (() => {\n",
              "      let quickchartButtonEl =\n",
              "        document.querySelector('#df-c6efe0a4-0d1c-4529-ae68-da77d5a8e119 button');\n",
              "      quickchartButtonEl.style.display =\n",
              "        google.colab.kernel.accessAllowed ? 'block' : 'none';\n",
              "    })();\n",
              "  </script>\n",
              "</div>\n",
              "\n",
              "  <div id=\"id_5bc13924-d3b8-48b3-9cba-459dfc1ab21c\">\n",
              "    <style>\n",
              "      .colab-df-generate {\n",
              "        background-color: #E8F0FE;\n",
              "        border: none;\n",
              "        border-radius: 50%;\n",
              "        cursor: pointer;\n",
              "        display: none;\n",
              "        fill: #1967D2;\n",
              "        height: 32px;\n",
              "        padding: 0 0 0 0;\n",
              "        width: 32px;\n",
              "      }\n",
              "\n",
              "      .colab-df-generate:hover {\n",
              "        background-color: #E2EBFA;\n",
              "        box-shadow: 0px 1px 2px rgba(60, 64, 67, 0.3), 0px 1px 3px 1px rgba(60, 64, 67, 0.15);\n",
              "        fill: #174EA6;\n",
              "      }\n",
              "\n",
              "      [theme=dark] .colab-df-generate {\n",
              "        background-color: #3B4455;\n",
              "        fill: #D2E3FC;\n",
              "      }\n",
              "\n",
              "      [theme=dark] .colab-df-generate:hover {\n",
              "        background-color: #434B5C;\n",
              "        box-shadow: 0px 1px 3px 1px rgba(0, 0, 0, 0.15);\n",
              "        filter: drop-shadow(0px 1px 2px rgba(0, 0, 0, 0.3));\n",
              "        fill: #FFFFFF;\n",
              "      }\n",
              "    </style>\n",
              "    <button class=\"colab-df-generate\" onclick=\"generateWithVariable('df_encoded')\"\n",
              "            title=\"Generate code using this dataframe.\"\n",
              "            style=\"display:none;\">\n",
              "\n",
              "  <svg xmlns=\"http://www.w3.org/2000/svg\" height=\"24px\"viewBox=\"0 0 24 24\"\n",
              "       width=\"24px\">\n",
              "    <path d=\"M7,19H8.4L18.45,9,17,7.55,7,17.6ZM5,21V16.75L18.45,3.32a2,2,0,0,1,2.83,0l1.4,1.43a1.91,1.91,0,0,1,.58,1.4,1.91,1.91,0,0,1-.58,1.4L9.25,21ZM18.45,9,17,7.55Zm-12,3A5.31,5.31,0,0,0,4.9,8.1,5.31,5.31,0,0,0,1,6.5,5.31,5.31,0,0,0,4.9,4.9,5.31,5.31,0,0,0,6.5,1,5.31,5.31,0,0,0,8.1,4.9,5.31,5.31,0,0,0,12,6.5,5.46,5.46,0,0,0,6.5,12Z\"/>\n",
              "  </svg>\n",
              "    </button>\n",
              "    <script>\n",
              "      (() => {\n",
              "      const buttonEl =\n",
              "        document.querySelector('#id_5bc13924-d3b8-48b3-9cba-459dfc1ab21c button.colab-df-generate');\n",
              "      buttonEl.style.display =\n",
              "        google.colab.kernel.accessAllowed ? 'block' : 'none';\n",
              "\n",
              "      buttonEl.onclick = () => {\n",
              "        google.colab.notebook.generateWithVariable('df_encoded');\n",
              "      }\n",
              "      })();\n",
              "    </script>\n",
              "  </div>\n",
              "\n",
              "    </div>\n",
              "  </div>\n"
            ],
            "application/vnd.google.colaboratory.intrinsic+json": {
              "type": "dataframe",
              "variable_name": "df_encoded"
            }
          },
          "metadata": {},
          "execution_count": 168
        }
      ]
    },
    {
      "cell_type": "code",
      "source": [
        "# Make predictions on the testing data\n",
        "y_pred = model.predict(X_test)\n"
      ],
      "metadata": {
        "id": "kYWNXqVnpaP4"
      },
      "execution_count": 169,
      "outputs": []
    },
    {
      "cell_type": "markdown",
      "source": [
        "Linear Regression"
      ],
      "metadata": {
        "id": "3d7N2yPnsOy2"
      }
    },
    {
      "cell_type": "code",
      "source": [
        "from sklearn.metrics import mean_absolute_error, mean_squared_error, r2_score\n",
        "\n",
        "# Calculate evaluation metrics\n",
        "mae = mean_absolute_error(y_test, y_pred)\n",
        "mse = mean_squared_error(y_test, y_pred)\n",
        "r2 = r2_score(y_test, y_pred)\n",
        "\n",
        "# Display the evaluation metrics\n",
        "print(f\"Mean Absolute Error (MAE): {mae}\")\n",
        "print(f\"Mean Squared Error (MSE): {mse}\")\n",
        "print(f\"R-squared Score: {r2}\")\n"
      ],
      "metadata": {
        "id": "AbuVa6HepaSS",
        "colab": {
          "base_uri": "https://localhost:8080/"
        },
        "outputId": "0e403707-a2fa-4af6-8f57-e3a7d01c4fa6"
      },
      "execution_count": 170,
      "outputs": [
        {
          "output_type": "stream",
          "name": "stdout",
          "text": [
            "Mean Absolute Error (MAE): 1.5119452560241304\n",
            "Mean Squared Error (MSE): 10.756582774740274\n",
            "R-squared Score: 0.36089495517704573\n"
          ]
        }
      ]
    },
    {
      "cell_type": "code",
      "source": [],
      "metadata": {
        "id": "xSR-o_d8paWq"
      },
      "execution_count": 170,
      "outputs": []
    },
    {
      "cell_type": "markdown",
      "source": [
        "Feature Scaling"
      ],
      "metadata": {
        "id": "KsxTFofhdoO8"
      }
    },
    {
      "cell_type": "code",
      "source": [
        "from sklearn.preprocessing import StandardScaler\n",
        "\n",
        "# Initialize the scaler\n",
        "scaler = StandardScaler()\n",
        "\n",
        "# Scale the training and testing features\n",
        "X_train_scaled = scaler.fit_transform(X_train)\n",
        "X_test_scaled = scaler.transform(X_test)\n"
      ],
      "metadata": {
        "id": "Oiata4uypaZL"
      },
      "execution_count": 171,
      "outputs": []
    },
    {
      "cell_type": "markdown",
      "source": [
        "Random Forest Regressor\n"
      ],
      "metadata": {
        "id": "_GdJdgxgfVSn"
      }
    },
    {
      "cell_type": "code",
      "source": [
        "from sklearn.ensemble import RandomForestRegressor\n",
        "\n",
        "# Initialize the model\n",
        "rf_model = RandomForestRegressor(n_estimators=100, random_state=2024)\n",
        "\n",
        "# Train the model on the scaled training data\n",
        "rf_model.fit(X_train_scaled, y_train)\n",
        "\n",
        "# Make predictions on the scaled testing data\n",
        "y_pred_rf = rf_model.predict(X_test_scaled)\n",
        "\n",
        "# Evaluate the Random Forest model\n",
        "mae_rf = mean_absolute_error(y_test, y_pred_rf)\n",
        "mse_rf = mean_squared_error(y_test, y_pred_rf)\n",
        "r2_rf = r2_score(y_test, y_pred_rf)\n",
        "\n",
        "# Display the evaluation metrics\n",
        "print(f\"Random Forest - Mean Absolute Error (MAE): {mae_rf}\")\n",
        "print(f\"Random Forest - Mean Squared Error (MSE): {mse_rf}\")\n",
        "print(f\"Random Forest - R-squared Score: {r2_rf}\")\n"
      ],
      "metadata": {
        "id": "9pDBQHR_paba",
        "colab": {
          "base_uri": "https://localhost:8080/"
        },
        "outputId": "8b981483-273c-4933-b1ca-06b6bd38e643"
      },
      "execution_count": 172,
      "outputs": [
        {
          "output_type": "stream",
          "name": "stdout",
          "text": [
            "Random Forest - Mean Absolute Error (MAE): 0.484398333333333\n",
            "Random Forest - Mean Squared Error (MSE): 0.6303999004999988\n",
            "Random Forest - R-squared Score: 0.9625446328910748\n"
          ]
        }
      ]
    },
    {
      "cell_type": "markdown",
      "source": [
        "Random forest regressor with"
      ],
      "metadata": {
        "id": "-1m9m543lkH0"
      }
    },
    {
      "cell_type": "code",
      "source": [
        "from sklearn.model_selection import RandomizedSearchCV\n",
        "from scipy.stats import randint\n",
        "\n",
        "# Define the parameter distributions with reduced ranges\n",
        "param_dist = {\n",
        "    'n_estimators': randint(100, 201),  # Reduced range\n",
        "    'max_features': ['sqrt', 'log2'],\n",
        "    'max_depth': [10, 20, None],  # Reduced values\n",
        "    'min_samples_split': randint(2, 6),  # Reduced range\n",
        "    'min_samples_leaf': randint(1, 3)   # Reduced range\n",
        "}\n",
        "\n",
        "# Initialize the model\n",
        "rf = RandomForestRegressor(random_state=2024)\n",
        "\n",
        "# Initialize RandomizedSearchCV\n",
        "random_search = RandomizedSearchCV(estimator=rf, param_distributions=param_dist, n_iter=50, cv=3, n_jobs=-1, verbose=2, random_state=2024)\n",
        "\n",
        "# Fit RandomizedSearchCV\n",
        "random_search.fit(X_train_scaled, y_train)\n",
        "\n",
        "# Print the best parameters\n",
        "print(random_search.best_params_)\n",
        "\n",
        "# Evaluate the best model\n",
        "best_rf_model = random_search.best_estimator_\n",
        "y_pred_best_rf = best_rf_model.predict(X_test_scaled)\n",
        "\n",
        "mae_best_rf = mean_absolute_error(y_test, y_pred_best_rf)\n",
        "mse_best_rf = mean_squared_error(y_test, y_pred_best_rf)\n",
        "r2_best_rf = r2_score(y_test, y_pred_best_rf)\n",
        "\n",
        "print(f\"Best Random Forest - Mean Absolute Error (MAE): {mae_best_rf}\")\n",
        "print(f\"Best Random Forest - Mean Squared Error (MSE): {mse_best_rf}\")\n",
        "print(f\"Best Random Forest - R-squared Score: {r2_best_rf}\")\n"
      ],
      "metadata": {
        "id": "xyZz-11vpadr",
        "colab": {
          "base_uri": "https://localhost:8080/"
        },
        "outputId": "bf171692-b9da-41bc-c026-0e89110ae871"
      },
      "execution_count": 173,
      "outputs": [
        {
          "output_type": "stream",
          "name": "stdout",
          "text": [
            "Fitting 3 folds for each of 50 candidates, totalling 150 fits\n",
            "{'max_depth': None, 'max_features': 'sqrt', 'min_samples_leaf': 1, 'min_samples_split': 2, 'n_estimators': 175}\n",
            "Best Random Forest - Mean Absolute Error (MAE): 0.6871219047619037\n",
            "Best Random Forest - Mean Squared Error (MSE): 1.2844287109659858\n",
            "Best Random Forest - R-squared Score: 0.923685348211005\n"
          ]
        }
      ]
    },
    {
      "cell_type": "code",
      "source": [
        "import matplotlib.pyplot as plt\n",
        "\n",
        "# Values from the results\n",
        "models = ['Simple RF', 'Randomized Search RF']\n",
        "mae_values = [0.484, 0.687]\n",
        "mse_values = [0.630, 1.284]\n",
        "r2_values = [0.9625, 0.9237]\n",
        "\n",
        "# Plot MAE\n",
        "plt.figure(figsize=(12, 4))\n",
        "\n",
        "plt.subplot(1, 3, 1)\n",
        "plt.bar(models, mae_values, color=['blue', 'orange'])\n",
        "plt.title('Mean Absolute Error (MAE)')\n",
        "plt.ylabel('MAE')\n",
        "\n",
        "# Plot MSE\n",
        "plt.subplot(1, 3, 2)\n",
        "plt.bar(models, mse_values, color=['blue', 'orange'])\n",
        "plt.title('Mean Squared Error (MSE)')\n",
        "plt.ylabel('MSE')\n",
        "\n",
        "# Plot R-squared\n",
        "plt.subplot(1, 3, 3)\n",
        "plt.bar(models, r2_values, color=['blue', 'orange'])\n",
        "plt.title('R-squared Score')\n",
        "plt.ylabel('R-squared')\n",
        "\n",
        "plt.tight_layout()\n",
        "plt.show()\n"
      ],
      "metadata": {
        "id": "OEY30i4Lpaf4",
        "colab": {
          "base_uri": "https://localhost:8080/",
          "height": 407
        },
        "outputId": "79798420-36ad-4ddd-ea9b-59bed96b7a81"
      },
      "execution_count": 174,
      "outputs": [
        {
          "output_type": "display_data",
          "data": {
            "text/plain": [
              "<Figure size 1200x400 with 3 Axes>"
            ],
            "image/png": "[encoded data removed]"
          },
          "metadata": {}
        }
      ]
    },
    {
      "cell_type": "markdown",
      "source": [
        "#The simple Random Forest model proves more efficient with lower values of MAE and MSE along with R-Squared value closer to 1"
      ],
      "metadata": {
        "id": "y1qMWnW1kgqn"
      }
    },
    {
      "cell_type": "code",
      "source": [
        "from sklearn.ensemble import RandomForestRegressor\n",
        "from sklearn.metrics import mean_absolute_error, mean_squared_error, r2_score\n",
        "import joblib  # For saving the model\n",
        "\n",
        "# Initialize the model\n",
        "rf_model = RandomForestRegressor(n_estimators=100, random_state=2024)\n",
        "\n",
        "# Train the model on the scaled training data\n",
        "rf_model.fit(X_train_scaled, y_train)\n",
        "\n",
        "# Make predictions on the scaled testing data\n",
        "y_pred_rf = rf_model.predict(X_test_scaled)\n",
        "\n",
        "# Evaluate the Random Forest model\n",
        "mae_rf = mean_absolute_error(y_test, y_pred_rf)\n",
        "mse_rf = mean_squared_error(y_test, y_pred_rf)\n",
        "r2_rf = r2_score(y_test, y_pred_rf)\n",
        "\n",
        "# Display the evaluation metrics\n",
        "print(f\"Random Forest - Mean Absolute Error (MAE): {mae_rf}\")\n",
        "print(f\"Random Forest - Mean Squared Error (MSE): {mse_rf}\")\n",
        "print(f\"Random Forest - R-squared Score: {r2_rf}\")\n",
        "\n",
        "# Save the model\n",
        "joblib.dump(rf_model, 'random_forest_model.pkl')\n",
        "\n",
        "# Feature importance\n",
        "importances = rf_model.feature_importances_\n",
        "feature_names = X_train.columns\n",
        "feature_importance = sorted(zip(importances, feature_names), reverse=True)\n",
        "\n",
        "print(\"Feature Importances:\")\n",
        "for importance, name in feature_importance:\n",
        "    print(f\"{name}: {importance}\")\n",
        "\n",
        "# Plot feature importance\n",
        "import matplotlib.pyplot as plt\n",
        "\n",
        "# Plot for the top 10 features\n",
        "plt.figure(figsize=(10, 6))\n",
        "plt.barh([x[1] for x in feature_importance[:10]], [x[0] for x in feature_importance[:10]])\n",
        "plt.xlabel(\"Feature Importance\")\n",
        "plt.title(\"Top 10 Feature Importance in Random Forest Model\")\n",
        "plt.gca().invert_yaxis()\n",
        "plt.show()\n",
        "\n"
      ],
      "metadata": {
        "id": "cZNgm0dhoXUO",
        "colab": {
          "base_uri": "https://localhost:8080/",
          "height": 1000
        },
        "outputId": "84af6a32-63fc-484c-e2a1-641c193b38f7"
      },
      "execution_count": 175,
      "outputs": [
        {
          "output_type": "stream",
          "name": "stdout",
          "text": [
            "Random Forest - Mean Absolute Error (MAE): 0.484398333333333\n",
            "Random Forest - Mean Squared Error (MSE): 0.6303999004999988\n",
            "Random Forest - R-squared Score: 0.9625446328910748\n",
            "Feature Importances:\n",
            "Present_Price: 0.8650570825683065\n",
            "Year: 0.08749261631050591\n",
            "Kms_Driven: 0.019966525881049732\n",
            "Car_Name_land cruiser: 0.004984426994924938\n",
            "Car_Name_city: 0.00343409196919489\n",
            "Seller_Type_Individual: 0.002552617396025169\n",
            "Transmission_Automatic: 0.0019841627933022766\n",
            "Owner: 0.0017612035291207024\n",
            "Car_Name_fortuner: 0.0016615266085445622\n",
            "Car_Name_innova: 0.0016305290270982283\n",
            "Car_Name_camry: 0.001553624760427337\n",
            "Transmission_Manual: 0.001534471115504061\n",
            "Seller_Type_Dealer: 0.0013629554907655373\n",
            "Car_Name_corolla altis: 0.0010830407213854975\n",
            "Fuel_Type_Diesel: 0.0009539704359063124\n",
            "Fuel_Type_Petrol: 0.0006486228549825189\n",
            "Car_Name_creta: 0.00040348473858193\n",
            "Car_Name_elantra: 0.0003151542739492372\n",
            "Car_Name_verna: 0.00029324817661300826\n",
            "Car_Name_etios cross: 0.00022168765916693865\n",
            "Car_Name_amaze: 0.0001835772712244894\n",
            "Car_Name_ciaz: 0.00015804818452168647\n",
            "Car_Name_sx4: 0.00010104115730013538\n",
            "Car_Name_jazz: 9.151620521024189e-05\n",
            "Car_Name_ertiga: 6.0915323215771464e-05\n",
            "Car_Name_corolla: 5.437151777272638e-05\n",
            "Car_Name_brio: 5.208571299788836e-05\n",
            "Car_Name_i20: 4.9667571331016857e-05\n",
            "Car_Name_i10: 4.123008105528776e-05\n",
            "Car_Name_dzire: 3.9976980041881326e-05\n",
            "Car_Name_800: 3.273384412004304e-05\n",
            "Car_Name_eon: 3.038446977625947e-05\n",
            "Car_Name_swift: 2.9068233290959552e-05\n",
            "Car_Name_vitara brezza: 2.7744298888705192e-05\n",
            "Car_Name_Honda CBR 150: 2.608495882498629e-05\n",
            "Car_Name_ritz: 1.8582451339330645e-05\n",
            "Car_Name_etios g: 1.5129344922642637e-05\n",
            "Car_Name_s cross: 1.4561476913429707e-05\n",
            "Car_Name_etios liva: 1.2913236979951758e-05\n",
            "Car_Name_grand i10: 8.915839919538966e-06\n",
            "Car_Name_Royal Enfield Classic 500: 7.807262293531575e-06\n",
            "Car_Name_alto k10: 6.838401547766972e-06\n",
            "Car_Name_wagon r: 6.559545184587611e-06\n",
            "Car_Name_Royal Enfield Bullet 350: 5.398272667404326e-06\n",
            "Car_Name_ignis: 4.412177830710662e-06\n",
            "Car_Name_xcent: 3.6296803918372284e-06\n",
            "Car_Name_Yamaha FZ 16: 3.0072084829800093e-06\n",
            "Car_Name_Royal Enfield Classic 350: 1.9647898342592022e-06\n",
            "Car_Name_KTM RC390: 1.4951961043161226e-06\n",
            "Fuel_Type_CNG: 1.432404088057837e-06\n",
            "Car_Name_Royal Enfield Thunder 350: 1.162201462157485e-06\n",
            "Car_Name_Yamaha FZ S V 2.0: 8.172228730255821e-07\n",
            "Car_Name_Bajaj Pulsar 220 F: 8.163610671586613e-07\n",
            "Car_Name_KTM 390 Duke : 8.153851417178913e-07\n",
            "Car_Name_Hyosung GT250R: 7.655087701704999e-07\n",
            "Car_Name_Bajaj Dominar 400: 7.407289526633772e-07\n",
            "Car_Name_TVS Apache RTR 160: 7.239711076440113e-07\n",
            "Car_Name_alto 800: 6.110124288624116e-07\n",
            "Car_Name_baleno: 5.707375221616996e-07\n",
            "Car_Name_Bajaj Pulsar  NS 200: 5.372552978667301e-07\n",
            "Car_Name_Mahindra Mojo XT300: 4.996593297208285e-07\n",
            "Car_Name_Yamaha FZ  v 2.0: 4.843629739435015e-07\n",
            "Car_Name_omni: 4.3349339669247695e-07\n",
            "Car_Name_Royal Enfield Thunder 500: 4.2135570499404953e-07\n",
            "Car_Name_Bajaj Avenger 220: 4.031974166751122e-07\n",
            "Car_Name_Bajaj Avenger 220 dtsi: 3.809548808886822e-07\n",
            "Car_Name_Yamaha FZ S : 3.712989361351312e-07\n",
            "Car_Name_TVS Apache RTR 180: 3.6013464222396153e-07\n",
            "Car_Name_Honda CB Shine: 3.5843928937391384e-07\n",
            "Car_Name_Bajaj Discover 125: 3.3855172940544264e-07\n",
            "Car_Name_Activa 4g: 3.0068187193212744e-07\n",
            "Car_Name_Hero Honda Passion Pro: 2.4874882124238865e-07\n",
            "Car_Name_Honda CB twister: 2.1174887364734428e-07\n",
            "Car_Name_Honda CB Hornet 160R: 2.1056167778414366e-07\n",
            "Car_Name_Honda Activa 125: 1.866545074697296e-07\n",
            "Car_Name_Bajaj Pulsar NS 200: 1.5954607117305263e-07\n",
            "Car_Name_Bajaj Pulsar RS200: 1.564353567828814e-07\n",
            "Car_Name_Hero Passion X pro: 1.5607673414877175e-07\n",
            "Car_Name_Bajaj Pulsar 150: 7.945814095020382e-08\n",
            "Car_Name_Yamaha Fazer : 6.800148827867236e-08\n",
            "Car_Name_Hero  Ignitor Disc: 6.200356557817165e-08\n",
            "Car_Name_Hero Extreme: 6.123966414259867e-08\n",
            "Car_Name_Bajaj Avenger Street 220: 5.99927975590255e-08\n",
            "Car_Name_TVS Jupyter: 5.591598135191018e-08\n",
            "Car_Name_TVS Sport : 5.234453945163568e-08\n",
            "Car_Name_Honda Activa 4G: 2.9366646310799825e-08\n",
            "Car_Name_Hero Splender iSmart: 2.8409085932665242e-08\n",
            "Car_Name_Bajaj Discover 100: 1.8169780393812632e-08\n",
            "Car_Name_Hero Super Splendor: 1.687070291134751e-08\n",
            "Car_Name_Honda Dream Yuga : 1.6044934347072896e-08\n",
            "Car_Name_Hero Passion Pro: 1.5147298159564433e-08\n",
            "Car_Name_Bajaj Pulsar 135 LS: 1.1438431681289158e-08\n",
            "Car_Name_Honda CB Unicorn: 1.1112835679224266e-08\n",
            "Car_Name_Bajaj Avenger 150 street: 9.362230732415427e-09\n",
            "Car_Name_Activa 3g: 9.001762099659806e-09\n",
            "Car_Name_Suzuki Access 125: 8.611209156633543e-09\n",
            "Car_Name_Hero Glamour: 7.2597638301684384e-09\n",
            "Car_Name_Hero Hunk: 1.5588758907599463e-09\n",
            "Car_Name_etios gd: 0.0\n",
            "Car_Name_UM Renegade Mojave: 0.0\n",
            "Car_Name_TVS Wego: 0.0\n",
            "Car_Name_KTM RC200: 0.0\n",
            "Car_Name_Honda Karizma: 0.0\n",
            "Car_Name_Honda CB Trigger: 0.0\n",
            "Car_Name_Hero Splender Plus: 0.0\n",
            "Car_Name_Hero Honda CBZ extreme: 0.0\n",
            "Car_Name_Hero  CBZ Xtreme: 0.0\n",
            "Car_Name_Bajaj Avenger 150: 0.0\n",
            "Car_Name_Bajaj  ct 100: 0.0\n"
          ]
        },
        {
          "output_type": "display_data",
          "data": {
            "text/plain": [
              "<Figure size 1000x600 with 1 Axes>"
            ],
            "image/png": "[encoded data removed]"
          },
          "metadata": {}
        }
      ]
    },
    {
      "cell_type": "markdown",
      "source": [
        "The feature importance analysis reveals that Present_Price is the most significant feature, contributing 86.5% to the model's decisions. This suggests that the price of the car at present is the most critical factor in determining its predicted value.\n",
        "Year is the second most significant feature, contributing 8.7%. This indicates that the age of the car also plays an important role in its valuation.\n",
        "Kms_Driven is the third significant feature, contributing 2.0%. The number of kilometers driven impacts the car's value but to a lesser extent than Present_Price and Year.\n",
        "The remaining features have very low importance scores, implying that they contribute minimally to the model's performance.\n"
      ],
      "metadata": {
        "id": "g_C0VNjOkfuo"
      }
    },
    {
      "cell_type": "code",
      "source": [
        "from sklearn.metrics import mean_absolute_error, mean_squared_error, r2_score\n",
        "\n",
        "# Make predictions on the training data\n",
        "y_train_pred = rf_model.predict(X_train_scaled)\n",
        "\n",
        "# Evaluate the model on the training data\n",
        "mae_train = mean_absolute_error(y_train, y_train_pred)\n",
        "mse_train = mean_squared_error(y_train, y_train_pred)\n",
        "r2_train = r2_score(y_train, y_train_pred)\n",
        "\n",
        "print(\"Training Set Evaluation Metrics:\")\n",
        "print(f\"Mean Absolute Error (MAE): {mae_train}\")\n",
        "print(f\"Mean Squared Error (MSE): {mse_train}\")\n",
        "print(f\"R-squared Score: {r2_train}\")\n",
        "print()\n",
        "\n",
        "# Evaluate the model on the testing data\n",
        "mae_test = mean_absolute_error(y_test, y_pred_rf)\n",
        "mse_test = mean_squared_error(y_test, y_pred_rf)\n",
        "r2_test = r2_score(y_test, y_pred_rf)\n",
        "\n",
        "print(\"Testing Set Evaluation Metrics:\")\n",
        "print(f\"Mean Absolute Error (MAE): {mae_test}\")\n",
        "print(f\"Mean Squared Error (MSE): {mse_test}\")\n",
        "print(f\"R-squared Score: {r2_test}\")\n"
      ],
      "metadata": {
        "colab": {
          "base_uri": "https://localhost:8080/"
        },
        "id": "sStFAKyxpdRJ",
        "outputId": "beb23655-d896-4b4a-8c26-1c37efe5b680"
      },
      "execution_count": 176,
      "outputs": [
        {
          "output_type": "stream",
          "name": "stdout",
          "text": [
            "Training Set Evaluation Metrics:\n",
            "Mean Absolute Error (MAE): 0.2521326359832634\n",
            "Mean Squared Error (MSE): 0.4027566141841006\n",
            "R-squared Score: 0.9848848108275324\n",
            "\n",
            "Testing Set Evaluation Metrics:\n",
            "Mean Absolute Error (MAE): 0.484398333333333\n",
            "Mean Squared Error (MSE): 0.6303999004999988\n",
            "R-squared Score: 0.9625446328910748\n"
          ]
        }
      ]
    },
    {
      "cell_type": "code",
      "source": [
        "'''def predict_selling_price(year, kms_driven):\n",
        "    # Create input features\n",
        "    example_features = [[year, kms_driven]]\n",
        "\n",
        "    # Predict the selling price using the trained model\n",
        "    predicted_price = rf_model.predict(example_features)\n",
        "\n",
        "    return predicted_price[0]\n",
        "\n",
        "# Example usage:\n",
        "year = 2015  # Example year of manufacture\n",
        "kms_driven = 50000  # Example mileage in kilometers\n",
        "\n",
        "# Predict the selling price\n",
        "predicted_price = predict_selling_price(year, kms_driven)\n",
        "print(\"Predicted Selling Price:\", predicted_price)'''\n"
      ],
      "metadata": {
        "colab": {
          "base_uri": "https://localhost:8080/",
          "height": 73
        },
        "id": "egecpuexxJNT",
        "outputId": "61477302-7124-4786-a05d-32687d6d47d7"
      },
      "execution_count": 177,
      "outputs": [
        {
          "output_type": "execute_result",
          "data": {
            "text/plain": [
              "'def predict_selling_price(year, kms_driven):\\n    # Create input features\\n    example_features = [[year, kms_driven]]\\n\\n    # Predict the selling price using the trained model\\n    predicted_price = rf_model.predict(example_features)\\n\\n    return predicted_price[0]\\n\\n# Example usage:\\nyear = 2015  # Example year of manufacture\\nkms_driven = 50000  # Example mileage in kilometers\\n\\n# Predict the selling price\\npredicted_price = predict_selling_price(year, kms_driven)\\nprint(\"Predicted Selling Price:\", predicted_price)'"
            ],
            "application/vnd.google.colaboratory.intrinsic+json": {
              "type": "string"
            }
          },
          "metadata": {},
          "execution_count": 177
        }
      ]
    },
    {
      "cell_type": "code",
      "source": [
        "'''# Define a function to predict selling price\n",
        "def predict_selling_price(features):\n",
        "    # Preprocess the input features\n",
        "    scaled_features = preprocess_input(features)\n",
        "\n",
        "    # Make predictions using the machine learning model\n",
        "    predicted_price = rf_model.predict(scaled_features)\n",
        "\n",
        "    return predicted_price\n",
        "\n",
        "# Example features (replace with your actual input features)\n",
        "features = {\n",
        "    'Year': 2018,\n",
        "    'Kms_Driven': 50000,\n",
        "    'Fuel_Type': 'Petrol',\n",
        "    'Seller_Type': 'Dealer',\n",
        "    'Transmission': 'Manual',\n",
        "    # Add more features as needed\n",
        "}\n",
        "\n",
        "\n",
        "# Predict the selling price\n",
        "predicted_price = predict_selling_price(example_features)\n",
        "print(\"Predicted Selling Price:\", predicted_price)'''\n"
      ],
      "metadata": {
        "colab": {
          "base_uri": "https://localhost:8080/",
          "height": 91
        },
        "id": "j-nB_W3lpdXw",
        "outputId": "2dcd146a-4704-435b-e2dd-199e9f3d5eb2"
      },
      "execution_count": 178,
      "outputs": [
        {
          "output_type": "execute_result",
          "data": {
            "text/plain": [
              "'# Define a function to predict selling price\\ndef predict_selling_price(features):\\n    # Preprocess the input features\\n    scaled_features = preprocess_input(features)\\n\\n    # Make predictions using the machine learning model\\n    predicted_price = rf_model.predict(scaled_features)\\n\\n    return predicted_price\\n\\n# Example features (replace with your actual input features)\\nfeatures = {\\n    \\'Year\\': 2018,\\n    \\'Kms_Driven\\': 50000,\\n    \\'Fuel_Type\\': \\'Petrol\\',\\n    \\'Seller_Type\\': \\'Dealer\\',\\n    \\'Transmission\\': \\'Manual\\',\\n    # Add more features as needed\\n}\\n\\n\\n# Predict the selling price\\npredicted_price = predict_selling_price(example_features)\\nprint(\"Predicted Selling Price:\", predicted_price)'"
            ],
            "application/vnd.google.colaboratory.intrinsic+json": {
              "type": "string"
            }
          },
          "metadata": {},
          "execution_count": 178
        }
      ]
    },
    {
      "cell_type": "code",
      "source": [],
      "metadata": {
        "id": "Esm5xALfpdeZ"
      },
      "execution_count": 178,
      "outputs": []
    },
    {
      "cell_type": "code",
      "source": [],
      "metadata": {
        "id": "9qHcM-EUpdhB"
      },
      "execution_count": 178,
      "outputs": []
    },
    {
      "cell_type": "code",
      "source": [],
      "metadata": {
        "id": "fGZVv0AxpdjU"
      },
      "execution_count": 178,
      "outputs": []
    },
    {
      "cell_type": "code",
      "source": [],
      "metadata": {
        "id": "IXiSb63jpdmM"
      },
      "execution_count": 178,
      "outputs": []
    },
    {
      "cell_type": "code",
      "source": [],
      "metadata": {
        "id": "NyFnglxkpdsp"
      },
      "execution_count": 178,
      "outputs": []
    }
  ]
}